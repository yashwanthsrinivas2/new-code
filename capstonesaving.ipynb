{
 "cells": [
  {
   "cell_type": "markdown",
   "metadata": {},
   "source": [
    "<h1>AI GENIE CAPSTONE ML PROJECT</h1>"
   ]
  },
  {
   "cell_type": "markdown",
   "metadata": {},
   "source": [
    "Importing the required Libraries"
   ]
  },
  {
   "cell_type": "code",
   "execution_count": 1,
   "metadata": {},
   "outputs": [],
   "source": [
    "import pandas as pd\n",
    "import matplotlib.pyplot as plt"
   ]
  },
  {
   "cell_type": "markdown",
   "metadata": {},
   "source": [
    "Reading and obesrving the data"
   ]
  },
  {
   "cell_type": "code",
   "execution_count": 4,
   "metadata": {},
   "outputs": [
    {
     "data": {
      "text/html": [
       "<div>\n",
       "<style scoped>\n",
       "    .dataframe tbody tr th:only-of-type {\n",
       "        vertical-align: middle;\n",
       "    }\n",
       "\n",
       "    .dataframe tbody tr th {\n",
       "        vertical-align: top;\n",
       "    }\n",
       "\n",
       "    .dataframe thead th {\n",
       "        text-align: right;\n",
       "    }\n",
       "</style>\n",
       "<table border=\"1\" class=\"dataframe\">\n",
       "  <thead>\n",
       "    <tr style=\"text-align: right;\">\n",
       "      <th></th>\n",
       "      <th>movie_id</th>\n",
       "      <th>movie</th>\n",
       "      <th>region</th>\n",
       "      <th>language</th>\n",
       "      <th>release_year</th>\n",
       "      <th>duration_in_min</th>\n",
       "      <th>genres</th>\n",
       "      <th>numvotes</th>\n",
       "      <th>primaryname</th>\n",
       "      <th>role</th>\n",
       "      <th>birthyear</th>\n",
       "      <th>deathyear</th>\n",
       "      <th>primaryprofession</th>\n",
       "      <th>rating</th>\n",
       "    </tr>\n",
       "  </thead>\n",
       "  <tbody>\n",
       "    <tr>\n",
       "      <th>0</th>\n",
       "      <td>10000</td>\n",
       "      <td>Amor gitano</td>\n",
       "      <td>ES</td>\n",
       "      <td>NaN</td>\n",
       "      <td>1910</td>\n",
       "      <td>NaN</td>\n",
       "      <td>NaN</td>\n",
       "      <td>8</td>\n",
       "      <td>Segundo de Chomón</td>\n",
       "      <td>director</td>\n",
       "      <td>1871.0</td>\n",
       "      <td>1929.0</td>\n",
       "      <td>director,cinematographer,writer</td>\n",
       "      <td>5.6</td>\n",
       "    </tr>\n",
       "    <tr>\n",
       "      <th>1</th>\n",
       "      <td>10001</td>\n",
       "      <td>As in a Looking Glass</td>\n",
       "      <td>US</td>\n",
       "      <td>NaN</td>\n",
       "      <td>1911</td>\n",
       "      <td>NaN</td>\n",
       "      <td>Drama</td>\n",
       "      <td>28</td>\n",
       "      <td>Wilfred Lucas</td>\n",
       "      <td>actor</td>\n",
       "      <td>1871.0</td>\n",
       "      <td>1940.0</td>\n",
       "      <td>actor,director,writer</td>\n",
       "      <td>5.1</td>\n",
       "    </tr>\n",
       "    <tr>\n",
       "      <th>2</th>\n",
       "      <td>10002</td>\n",
       "      <td>The Infant at Snakeville</td>\n",
       "      <td>US</td>\n",
       "      <td>NaN</td>\n",
       "      <td>1911</td>\n",
       "      <td>NaN</td>\n",
       "      <td>NaN</td>\n",
       "      <td>5</td>\n",
       "      <td>Gilbert M. Broncho Billy Anderson</td>\n",
       "      <td>actor</td>\n",
       "      <td>1880.0</td>\n",
       "      <td>1971.0</td>\n",
       "      <td>director,actor,producer</td>\n",
       "      <td>5.2</td>\n",
       "    </tr>\n",
       "    <tr>\n",
       "      <th>3</th>\n",
       "      <td>10003</td>\n",
       "      <td>Who Will Marry Mary?</td>\n",
       "      <td>US</td>\n",
       "      <td>NaN</td>\n",
       "      <td>1913</td>\n",
       "      <td>NaN</td>\n",
       "      <td>Action,Adventure</td>\n",
       "      <td>14</td>\n",
       "      <td>Mary Fuller</td>\n",
       "      <td>actress</td>\n",
       "      <td>1888.0</td>\n",
       "      <td>1973.0</td>\n",
       "      <td>actress,writer</td>\n",
       "      <td>5.6</td>\n",
       "    </tr>\n",
       "    <tr>\n",
       "      <th>4</th>\n",
       "      <td>10004</td>\n",
       "      <td>The Active Life of Dolly of the Dailies</td>\n",
       "      <td>US</td>\n",
       "      <td>NaN</td>\n",
       "      <td>1914</td>\n",
       "      <td>NaN</td>\n",
       "      <td>Drama</td>\n",
       "      <td>43</td>\n",
       "      <td>Mary Fuller</td>\n",
       "      <td>actress</td>\n",
       "      <td>1888.0</td>\n",
       "      <td>1973.0</td>\n",
       "      <td>actress,writer</td>\n",
       "      <td>6.2</td>\n",
       "    </tr>\n",
       "  </tbody>\n",
       "</table>\n",
       "</div>"
      ],
      "text/plain": [
       "   movie_id                                    movie region language  \\\n",
       "0     10000                              Amor gitano     ES      NaN   \n",
       "1     10001                    As in a Looking Glass     US      NaN   \n",
       "2     10002                 The Infant at Snakeville     US      NaN   \n",
       "3     10003                     Who Will Marry Mary?     US      NaN   \n",
       "4     10004  The Active Life of Dolly of the Dailies     US      NaN   \n",
       "\n",
       "   release_year  duration_in_min            genres  numvotes  \\\n",
       "0          1910              NaN               NaN         8   \n",
       "1          1911              NaN             Drama        28   \n",
       "2          1911              NaN               NaN         5   \n",
       "3          1913              NaN  Action,Adventure        14   \n",
       "4          1914              NaN             Drama        43   \n",
       "\n",
       "                         primaryname      role  birthyear  deathyear  \\\n",
       "0                  Segundo de Chomón  director     1871.0     1929.0   \n",
       "1                      Wilfred Lucas     actor     1871.0     1940.0   \n",
       "2  Gilbert M. Broncho Billy Anderson     actor     1880.0     1971.0   \n",
       "3                        Mary Fuller   actress     1888.0     1973.0   \n",
       "4                        Mary Fuller   actress     1888.0     1973.0   \n",
       "\n",
       "                 primaryprofession  rating  \n",
       "0  director,cinematographer,writer     5.6  \n",
       "1            actor,director,writer     5.1  \n",
       "2          director,actor,producer     5.2  \n",
       "3                   actress,writer     5.6  \n",
       "4                   actress,writer     6.2  "
      ]
     },
     "execution_count": 4,
     "metadata": {},
     "output_type": "execute_result"
    }
   ],
   "source": [
    "df = pd.read_csv(\"movie.csv\",encoding=\"ISO-8859-1\")\n",
    "df.head()"
   ]
  },
  {
   "cell_type": "code",
   "execution_count": 3,
   "metadata": {},
   "outputs": [
    {
     "data": {
      "text/plain": [
       "(18166, 14)"
      ]
     },
     "execution_count": 3,
     "metadata": {},
     "output_type": "execute_result"
    }
   ],
   "source": [
    "df.shape ##to find the size of the dataset"
   ]
  },
  {
   "cell_type": "markdown",
   "metadata": {},
   "source": [
    "This is used to see the null value count and description of data"
   ]
  },
  {
   "cell_type": "code",
   "execution_count": 6,
   "metadata": {},
   "outputs": [
    {
     "name": "stdout",
     "output_type": "stream",
     "text": [
      "movie_id 0\n",
      "movie 0\n",
      "region 0\n",
      "language 14595\n",
      "release_year 0\n",
      "duration_in_min 970\n",
      "genres 602\n",
      "numvotes 0\n",
      "primaryname 0\n",
      "role 0\n",
      "birthyear 1666\n",
      "deathyear 7208\n",
      "primaryprofession 94\n",
      "rating 100\n",
      "           movie_id  release_year  duration_in_min      numvotes  \\\n",
      "count  18166.000000  18166.000000     17196.000000  1.816600e+04   \n",
      "mean   19082.500000   1963.769404        89.285066  2.603955e+03   \n",
      "std     5244.216831     23.172771        26.648045  2.800400e+04   \n",
      "min    10000.000000   1897.000000        14.000000  5.000000e+00   \n",
      "25%    14541.250000   1944.000000        76.000000  2.200000e+01   \n",
      "50%    19082.500000   1967.000000        89.000000  7.700000e+01   \n",
      "75%    23623.750000   1985.000000        98.000000  3.400000e+02   \n",
      "max    28165.000000   2019.000000      1428.000000  1.546898e+06   \n",
      "\n",
      "          birthyear     deathyear        rating  \n",
      "count  16500.000000  10958.000000  18066.000000  \n",
      "mean    1924.724727   1984.794944      5.974626  \n",
      "std       24.676553     22.148750      1.103099  \n",
      "min     1830.000000   1914.000000      1.000000  \n",
      "25%     1906.000000   1970.000000      5.300000  \n",
      "50%     1925.000000   1987.000000      6.100000  \n",
      "75%     1945.000000   2003.000000      6.700000  \n",
      "max     1990.000000   2020.000000      9.400000  \n"
     ]
    }
   ],
   "source": [
    "for column in df.columns:\n",
    "   print(column, df[column].isnull().sum())\n",
    "print(df.describe())"
   ]
  },
  {
   "cell_type": "markdown",
   "metadata": {},
   "source": [
    "Since <b> Language</b> has many null values and <b> movie name </b> cannot provide any value removing them from the dataset"
   ]
  },
  {
   "cell_type": "code",
   "execution_count": 8,
   "metadata": {},
   "outputs": [
    {
     "data": {
      "text/html": [
       "<div>\n",
       "<style scoped>\n",
       "    .dataframe tbody tr th:only-of-type {\n",
       "        vertical-align: middle;\n",
       "    }\n",
       "\n",
       "    .dataframe tbody tr th {\n",
       "        vertical-align: top;\n",
       "    }\n",
       "\n",
       "    .dataframe thead th {\n",
       "        text-align: right;\n",
       "    }\n",
       "</style>\n",
       "<table border=\"1\" class=\"dataframe\">\n",
       "  <thead>\n",
       "    <tr style=\"text-align: right;\">\n",
       "      <th></th>\n",
       "      <th>movie_id</th>\n",
       "      <th>region</th>\n",
       "      <th>release_year</th>\n",
       "      <th>duration_in_min</th>\n",
       "      <th>genres</th>\n",
       "      <th>numvotes</th>\n",
       "      <th>primaryname</th>\n",
       "      <th>role</th>\n",
       "      <th>birthyear</th>\n",
       "      <th>deathyear</th>\n",
       "      <th>primaryprofession</th>\n",
       "      <th>rating</th>\n",
       "    </tr>\n",
       "  </thead>\n",
       "  <tbody>\n",
       "    <tr>\n",
       "      <th>0</th>\n",
       "      <td>10000</td>\n",
       "      <td>ES</td>\n",
       "      <td>1910</td>\n",
       "      <td>NaN</td>\n",
       "      <td>NaN</td>\n",
       "      <td>8</td>\n",
       "      <td>Segundo de Chomón</td>\n",
       "      <td>director</td>\n",
       "      <td>1871.0</td>\n",
       "      <td>1929.0</td>\n",
       "      <td>director,cinematographer,writer</td>\n",
       "      <td>5.6</td>\n",
       "    </tr>\n",
       "    <tr>\n",
       "      <th>1</th>\n",
       "      <td>10001</td>\n",
       "      <td>US</td>\n",
       "      <td>1911</td>\n",
       "      <td>NaN</td>\n",
       "      <td>Drama</td>\n",
       "      <td>28</td>\n",
       "      <td>Wilfred Lucas</td>\n",
       "      <td>actor</td>\n",
       "      <td>1871.0</td>\n",
       "      <td>1940.0</td>\n",
       "      <td>actor,director,writer</td>\n",
       "      <td>5.1</td>\n",
       "    </tr>\n",
       "    <tr>\n",
       "      <th>2</th>\n",
       "      <td>10002</td>\n",
       "      <td>US</td>\n",
       "      <td>1911</td>\n",
       "      <td>NaN</td>\n",
       "      <td>NaN</td>\n",
       "      <td>5</td>\n",
       "      <td>Gilbert M. Broncho Billy Anderson</td>\n",
       "      <td>actor</td>\n",
       "      <td>1880.0</td>\n",
       "      <td>1971.0</td>\n",
       "      <td>director,actor,producer</td>\n",
       "      <td>5.2</td>\n",
       "    </tr>\n",
       "    <tr>\n",
       "      <th>3</th>\n",
       "      <td>10003</td>\n",
       "      <td>US</td>\n",
       "      <td>1913</td>\n",
       "      <td>NaN</td>\n",
       "      <td>Action,Adventure</td>\n",
       "      <td>14</td>\n",
       "      <td>Mary Fuller</td>\n",
       "      <td>actress</td>\n",
       "      <td>1888.0</td>\n",
       "      <td>1973.0</td>\n",
       "      <td>actress,writer</td>\n",
       "      <td>5.6</td>\n",
       "    </tr>\n",
       "    <tr>\n",
       "      <th>4</th>\n",
       "      <td>10004</td>\n",
       "      <td>US</td>\n",
       "      <td>1914</td>\n",
       "      <td>NaN</td>\n",
       "      <td>Drama</td>\n",
       "      <td>43</td>\n",
       "      <td>Mary Fuller</td>\n",
       "      <td>actress</td>\n",
       "      <td>1888.0</td>\n",
       "      <td>1973.0</td>\n",
       "      <td>actress,writer</td>\n",
       "      <td>6.2</td>\n",
       "    </tr>\n",
       "  </tbody>\n",
       "</table>\n",
       "</div>"
      ],
      "text/plain": [
       "   movie_id region  release_year  duration_in_min            genres  numvotes  \\\n",
       "0     10000     ES          1910              NaN               NaN         8   \n",
       "1     10001     US          1911              NaN             Drama        28   \n",
       "2     10002     US          1911              NaN               NaN         5   \n",
       "3     10003     US          1913              NaN  Action,Adventure        14   \n",
       "4     10004     US          1914              NaN             Drama        43   \n",
       "\n",
       "                         primaryname      role  birthyear  deathyear  \\\n",
       "0                  Segundo de Chomón  director     1871.0     1929.0   \n",
       "1                      Wilfred Lucas     actor     1871.0     1940.0   \n",
       "2  Gilbert M. Broncho Billy Anderson     actor     1880.0     1971.0   \n",
       "3                        Mary Fuller   actress     1888.0     1973.0   \n",
       "4                        Mary Fuller   actress     1888.0     1973.0   \n",
       "\n",
       "                 primaryprofession  rating  \n",
       "0  director,cinematographer,writer     5.6  \n",
       "1            actor,director,writer     5.1  \n",
       "2          director,actor,producer     5.2  \n",
       "3                   actress,writer     5.6  \n",
       "4                   actress,writer     6.2  "
      ]
     },
     "execution_count": 8,
     "metadata": {},
     "output_type": "execute_result"
    }
   ],
   "source": [
    "df.drop(\"language\",axis=1,inplace=True)\n",
    "df.drop(\"movie\",axis=1,inplace=True)\n",
    "df.head()"
   ]
  },
  {
   "cell_type": "markdown",
   "metadata": {},
   "source": [
    "Since <b>death year</b> has too many outliers and less corelation  removing it "
   ]
  },
  {
   "cell_type": "code",
   "execution_count": 64,
   "metadata": {},
   "outputs": [
    {
     "data": {
      "image/png": "[encoded data removed]",
      "text/plain": [
       "<Figure size 432x288 with 1 Axes>"
      ]
     },
     "metadata": {
      "needs_background": "light"
     },
     "output_type": "display_data"
    },
    {
     "data": {
      "text/html": [
       "<div>\n",
       "<style scoped>\n",
       "    .dataframe tbody tr th:only-of-type {\n",
       "        vertical-align: middle;\n",
       "    }\n",
       "\n",
       "    .dataframe tbody tr th {\n",
       "        vertical-align: top;\n",
       "    }\n",
       "\n",
       "    .dataframe thead th {\n",
       "        text-align: right;\n",
       "    }\n",
       "</style>\n",
       "<table border=\"1\" class=\"dataframe\">\n",
       "  <thead>\n",
       "    <tr style=\"text-align: right;\">\n",
       "      <th></th>\n",
       "      <th>movie_id</th>\n",
       "      <th>release_year</th>\n",
       "      <th>duration_in_min</th>\n",
       "      <th>numvotes</th>\n",
       "      <th>birthyear</th>\n",
       "      <th>deathyear</th>\n",
       "      <th>rating</th>\n",
       "    </tr>\n",
       "  </thead>\n",
       "  <tbody>\n",
       "    <tr>\n",
       "      <th>movie_id</th>\n",
       "      <td>1.000000</td>\n",
       "      <td>0.049367</td>\n",
       "      <td>0.025364</td>\n",
       "      <td>-0.003768</td>\n",
       "      <td>0.048272</td>\n",
       "      <td>0.030052</td>\n",
       "      <td>0.005050</td>\n",
       "    </tr>\n",
       "    <tr>\n",
       "      <th>release_year</th>\n",
       "      <td>0.049367</td>\n",
       "      <td>1.000000</td>\n",
       "      <td>0.270459</td>\n",
       "      <td>0.076619</td>\n",
       "      <td>0.879341</td>\n",
       "      <td>0.665616</td>\n",
       "      <td>-0.080427</td>\n",
       "    </tr>\n",
       "    <tr>\n",
       "      <th>duration_in_min</th>\n",
       "      <td>0.025364</td>\n",
       "      <td>0.270459</td>\n",
       "      <td>1.000000</td>\n",
       "      <td>0.102347</td>\n",
       "      <td>0.249781</td>\n",
       "      <td>0.149194</td>\n",
       "      <td>0.125705</td>\n",
       "    </tr>\n",
       "    <tr>\n",
       "      <th>numvotes</th>\n",
       "      <td>-0.003768</td>\n",
       "      <td>0.076619</td>\n",
       "      <td>0.102347</td>\n",
       "      <td>1.000000</td>\n",
       "      <td>0.079858</td>\n",
       "      <td>0.031762</td>\n",
       "      <td>0.111679</td>\n",
       "    </tr>\n",
       "    <tr>\n",
       "      <th>birthyear</th>\n",
       "      <td>0.048272</td>\n",
       "      <td>0.879341</td>\n",
       "      <td>0.249781</td>\n",
       "      <td>0.079858</td>\n",
       "      <td>1.000000</td>\n",
       "      <td>0.759378</td>\n",
       "      <td>-0.097993</td>\n",
       "    </tr>\n",
       "    <tr>\n",
       "      <th>deathyear</th>\n",
       "      <td>0.030052</td>\n",
       "      <td>0.665616</td>\n",
       "      <td>0.149194</td>\n",
       "      <td>0.031762</td>\n",
       "      <td>0.759378</td>\n",
       "      <td>1.000000</td>\n",
       "      <td>-0.044930</td>\n",
       "    </tr>\n",
       "    <tr>\n",
       "      <th>rating</th>\n",
       "      <td>0.005050</td>\n",
       "      <td>-0.080427</td>\n",
       "      <td>0.125705</td>\n",
       "      <td>0.111679</td>\n",
       "      <td>-0.097993</td>\n",
       "      <td>-0.044930</td>\n",
       "      <td>1.000000</td>\n",
       "    </tr>\n",
       "  </tbody>\n",
       "</table>\n",
       "</div>"
      ],
      "text/plain": [
       "                 movie_id  release_year  duration_in_min  numvotes  birthyear  \\\n",
       "movie_id         1.000000      0.049367         0.025364 -0.003768   0.048272   \n",
       "release_year     0.049367      1.000000         0.270459  0.076619   0.879341   \n",
       "duration_in_min  0.025364      0.270459         1.000000  0.102347   0.249781   \n",
       "numvotes        -0.003768      0.076619         0.102347  1.000000   0.079858   \n",
       "birthyear        0.048272      0.879341         0.249781  0.079858   1.000000   \n",
       "deathyear        0.030052      0.665616         0.149194  0.031762   0.759378   \n",
       "rating           0.005050     -0.080427         0.125705  0.111679  -0.097993   \n",
       "\n",
       "                 deathyear    rating  \n",
       "movie_id          0.030052  0.005050  \n",
       "release_year      0.665616 -0.080427  \n",
       "duration_in_min   0.149194  0.125705  \n",
       "numvotes          0.031762  0.111679  \n",
       "birthyear         0.759378 -0.097993  \n",
       "deathyear         1.000000 -0.044930  \n",
       "rating           -0.044930  1.000000  "
      ]
     },
     "execution_count": 64,
     "metadata": {},
     "output_type": "execute_result"
    }
   ],
   "source": [
    "x,y=df[\"deathyear\"],df[\"rating\"]\n",
    "plt.scatter(x,y)\n",
    "plt.show()\n",
    "df.corr()"
   ]
  },
  {
   "cell_type": "code",
   "execution_count": 12,
   "metadata": {},
   "outputs": [
    {
     "data": {
      "text/html": [
       "<div>\n",
       "<style scoped>\n",
       "    .dataframe tbody tr th:only-of-type {\n",
       "        vertical-align: middle;\n",
       "    }\n",
       "\n",
       "    .dataframe tbody tr th {\n",
       "        vertical-align: top;\n",
       "    }\n",
       "\n",
       "    .dataframe thead th {\n",
       "        text-align: right;\n",
       "    }\n",
       "</style>\n",
       "<table border=\"1\" class=\"dataframe\">\n",
       "  <thead>\n",
       "    <tr style=\"text-align: right;\">\n",
       "      <th></th>\n",
       "      <th>movie_id</th>\n",
       "      <th>region</th>\n",
       "      <th>release_year</th>\n",
       "      <th>duration_in_min</th>\n",
       "      <th>genres</th>\n",
       "      <th>numvotes</th>\n",
       "      <th>primaryname</th>\n",
       "      <th>role</th>\n",
       "      <th>birthyear</th>\n",
       "      <th>primaryprofession</th>\n",
       "      <th>rating</th>\n",
       "    </tr>\n",
       "  </thead>\n",
       "  <tbody>\n",
       "    <tr>\n",
       "      <th>0</th>\n",
       "      <td>10000</td>\n",
       "      <td>ES</td>\n",
       "      <td>1910</td>\n",
       "      <td>89.0</td>\n",
       "      <td>unknown</td>\n",
       "      <td>8</td>\n",
       "      <td>Segundo de Chomón</td>\n",
       "      <td>director</td>\n",
       "      <td>1871.0</td>\n",
       "      <td>director,cinematographer,writer</td>\n",
       "      <td>5.6</td>\n",
       "    </tr>\n",
       "    <tr>\n",
       "      <th>1</th>\n",
       "      <td>10001</td>\n",
       "      <td>US</td>\n",
       "      <td>1911</td>\n",
       "      <td>89.0</td>\n",
       "      <td>Drama</td>\n",
       "      <td>28</td>\n",
       "      <td>Wilfred Lucas</td>\n",
       "      <td>actor</td>\n",
       "      <td>1871.0</td>\n",
       "      <td>actor,director,writer</td>\n",
       "      <td>5.1</td>\n",
       "    </tr>\n",
       "    <tr>\n",
       "      <th>2</th>\n",
       "      <td>10002</td>\n",
       "      <td>US</td>\n",
       "      <td>1911</td>\n",
       "      <td>89.0</td>\n",
       "      <td>unknown</td>\n",
       "      <td>5</td>\n",
       "      <td>Gilbert M. Broncho Billy Anderson</td>\n",
       "      <td>actor</td>\n",
       "      <td>1880.0</td>\n",
       "      <td>director,actor,producer</td>\n",
       "      <td>5.2</td>\n",
       "    </tr>\n",
       "    <tr>\n",
       "      <th>3</th>\n",
       "      <td>10003</td>\n",
       "      <td>US</td>\n",
       "      <td>1913</td>\n",
       "      <td>89.0</td>\n",
       "      <td>Action,Adventure</td>\n",
       "      <td>14</td>\n",
       "      <td>Mary Fuller</td>\n",
       "      <td>actress</td>\n",
       "      <td>1888.0</td>\n",
       "      <td>actress,writer</td>\n",
       "      <td>5.6</td>\n",
       "    </tr>\n",
       "    <tr>\n",
       "      <th>4</th>\n",
       "      <td>10004</td>\n",
       "      <td>US</td>\n",
       "      <td>1914</td>\n",
       "      <td>89.0</td>\n",
       "      <td>Drama</td>\n",
       "      <td>43</td>\n",
       "      <td>Mary Fuller</td>\n",
       "      <td>actress</td>\n",
       "      <td>1888.0</td>\n",
       "      <td>actress,writer</td>\n",
       "      <td>6.2</td>\n",
       "    </tr>\n",
       "  </tbody>\n",
       "</table>\n",
       "</div>"
      ],
      "text/plain": [
       "   movie_id region  release_year  duration_in_min            genres  numvotes  \\\n",
       "0     10000     ES          1910             89.0           unknown         8   \n",
       "1     10001     US          1911             89.0             Drama        28   \n",
       "2     10002     US          1911             89.0           unknown         5   \n",
       "3     10003     US          1913             89.0  Action,Adventure        14   \n",
       "4     10004     US          1914             89.0             Drama        43   \n",
       "\n",
       "                         primaryname      role  birthyear  \\\n",
       "0                  Segundo de Chomón  director     1871.0   \n",
       "1                      Wilfred Lucas     actor     1871.0   \n",
       "2  Gilbert M. Broncho Billy Anderson     actor     1880.0   \n",
       "3                        Mary Fuller   actress     1888.0   \n",
       "4                        Mary Fuller   actress     1888.0   \n",
       "\n",
       "                 primaryprofession  rating  \n",
       "0  director,cinematographer,writer     5.6  \n",
       "1            actor,director,writer     5.1  \n",
       "2          director,actor,producer     5.2  \n",
       "3                   actress,writer     5.6  \n",
       "4                   actress,writer     6.2  "
      ]
     },
     "execution_count": 12,
     "metadata": {},
     "output_type": "execute_result"
    }
   ],
   "source": [
    "df.drop(\"deathyear\",axis=1,inplace=True)\n",
    "df.head()"
   ]
  },
  {
   "cell_type": "markdown",
   "metadata": {},
   "source": [
    "Filling all the null values with respective data "
   ]
  },
  {
   "cell_type": "code",
   "execution_count": 14,
   "metadata": {},
   "outputs": [
    {
     "data": {
      "text/html": [
       "<div>\n",
       "<style scoped>\n",
       "    .dataframe tbody tr th:only-of-type {\n",
       "        vertical-align: middle;\n",
       "    }\n",
       "\n",
       "    .dataframe tbody tr th {\n",
       "        vertical-align: top;\n",
       "    }\n",
       "\n",
       "    .dataframe thead th {\n",
       "        text-align: right;\n",
       "    }\n",
       "</style>\n",
       "<table border=\"1\" class=\"dataframe\">\n",
       "  <thead>\n",
       "    <tr style=\"text-align: right;\">\n",
       "      <th></th>\n",
       "      <th>movie_id</th>\n",
       "      <th>region</th>\n",
       "      <th>release_year</th>\n",
       "      <th>duration_in_min</th>\n",
       "      <th>genres</th>\n",
       "      <th>numvotes</th>\n",
       "      <th>primaryname</th>\n",
       "      <th>role</th>\n",
       "      <th>birthyear</th>\n",
       "      <th>primaryprofession</th>\n",
       "      <th>rating</th>\n",
       "    </tr>\n",
       "  </thead>\n",
       "  <tbody>\n",
       "    <tr>\n",
       "      <th>0</th>\n",
       "      <td>10000</td>\n",
       "      <td>ES</td>\n",
       "      <td>1910</td>\n",
       "      <td>89.0</td>\n",
       "      <td>unknown</td>\n",
       "      <td>8</td>\n",
       "      <td>Segundo de Chomón</td>\n",
       "      <td>director</td>\n",
       "      <td>1871.0</td>\n",
       "      <td>director,cinematographer,writer</td>\n",
       "      <td>5.6</td>\n",
       "    </tr>\n",
       "    <tr>\n",
       "      <th>1</th>\n",
       "      <td>10001</td>\n",
       "      <td>US</td>\n",
       "      <td>1911</td>\n",
       "      <td>89.0</td>\n",
       "      <td>Drama</td>\n",
       "      <td>28</td>\n",
       "      <td>Wilfred Lucas</td>\n",
       "      <td>actor</td>\n",
       "      <td>1871.0</td>\n",
       "      <td>actor,director,writer</td>\n",
       "      <td>5.1</td>\n",
       "    </tr>\n",
       "    <tr>\n",
       "      <th>2</th>\n",
       "      <td>10002</td>\n",
       "      <td>US</td>\n",
       "      <td>1911</td>\n",
       "      <td>89.0</td>\n",
       "      <td>unknown</td>\n",
       "      <td>5</td>\n",
       "      <td>Gilbert M. Broncho Billy Anderson</td>\n",
       "      <td>actor</td>\n",
       "      <td>1880.0</td>\n",
       "      <td>director,actor,producer</td>\n",
       "      <td>5.2</td>\n",
       "    </tr>\n",
       "    <tr>\n",
       "      <th>3</th>\n",
       "      <td>10003</td>\n",
       "      <td>US</td>\n",
       "      <td>1913</td>\n",
       "      <td>89.0</td>\n",
       "      <td>Action,Adventure</td>\n",
       "      <td>14</td>\n",
       "      <td>Mary Fuller</td>\n",
       "      <td>actress</td>\n",
       "      <td>1888.0</td>\n",
       "      <td>actress,writer</td>\n",
       "      <td>5.6</td>\n",
       "    </tr>\n",
       "    <tr>\n",
       "      <th>4</th>\n",
       "      <td>10004</td>\n",
       "      <td>US</td>\n",
       "      <td>1914</td>\n",
       "      <td>89.0</td>\n",
       "      <td>Drama</td>\n",
       "      <td>43</td>\n",
       "      <td>Mary Fuller</td>\n",
       "      <td>actress</td>\n",
       "      <td>1888.0</td>\n",
       "      <td>actress,writer</td>\n",
       "      <td>6.2</td>\n",
       "    </tr>\n",
       "  </tbody>\n",
       "</table>\n",
       "</div>"
      ],
      "text/plain": [
       "   movie_id region  release_year  duration_in_min            genres  numvotes  \\\n",
       "0     10000     ES          1910             89.0           unknown         8   \n",
       "1     10001     US          1911             89.0             Drama        28   \n",
       "2     10002     US          1911             89.0           unknown         5   \n",
       "3     10003     US          1913             89.0  Action,Adventure        14   \n",
       "4     10004     US          1914             89.0             Drama        43   \n",
       "\n",
       "                         primaryname      role  birthyear  \\\n",
       "0                  Segundo de Chomón  director     1871.0   \n",
       "1                      Wilfred Lucas     actor     1871.0   \n",
       "2  Gilbert M. Broncho Billy Anderson     actor     1880.0   \n",
       "3                        Mary Fuller   actress     1888.0   \n",
       "4                        Mary Fuller   actress     1888.0   \n",
       "\n",
       "                 primaryprofession  rating  \n",
       "0  director,cinematographer,writer     5.6  \n",
       "1            actor,director,writer     5.1  \n",
       "2          director,actor,producer     5.2  \n",
       "3                   actress,writer     5.6  \n",
       "4                   actress,writer     6.2  "
      ]
     },
     "execution_count": 14,
     "metadata": {},
     "output_type": "execute_result"
    }
   ],
   "source": [
    "df[\"duration_in_min\"].fillna(value = df[\"duration_in_min\"].median(),inplace=True)\n",
    "df[\"birthyear\"].fillna(value = df[\"birthyear\"].median(),inplace=True)\n",
    "df[\"genres\"].fillna(value =\"unknown\",inplace=True)\n",
    "df[\"primaryprofession\"].fillna(value = \"unknown\",inplace=True)\n",
    "df.head()"
   ]
  },
  {
   "cell_type": "markdown",
   "metadata": {},
   "source": [
    "Using <b>Label encoding </b> for coverting into numerical data"
   ]
  },
  {
   "cell_type": "code",
   "execution_count": 16,
   "metadata": {},
   "outputs": [
    {
     "data": {
      "text/html": [
       "<div>\n",
       "<style scoped>\n",
       "    .dataframe tbody tr th:only-of-type {\n",
       "        vertical-align: middle;\n",
       "    }\n",
       "\n",
       "    .dataframe tbody tr th {\n",
       "        vertical-align: top;\n",
       "    }\n",
       "\n",
       "    .dataframe thead th {\n",
       "        text-align: right;\n",
       "    }\n",
       "</style>\n",
       "<table border=\"1\" class=\"dataframe\">\n",
       "  <thead>\n",
       "    <tr style=\"text-align: right;\">\n",
       "      <th></th>\n",
       "      <th>movie_id</th>\n",
       "      <th>region</th>\n",
       "      <th>release_year</th>\n",
       "      <th>duration_in_min</th>\n",
       "      <th>genres</th>\n",
       "      <th>numvotes</th>\n",
       "      <th>primaryname</th>\n",
       "      <th>role</th>\n",
       "      <th>birthyear</th>\n",
       "      <th>primaryprofession</th>\n",
       "      <th>rating</th>\n",
       "    </tr>\n",
       "  </thead>\n",
       "  <tbody>\n",
       "    <tr>\n",
       "      <th>0</th>\n",
       "      <td>10000</td>\n",
       "      <td>7</td>\n",
       "      <td>1910</td>\n",
       "      <td>89.0</td>\n",
       "      <td>604</td>\n",
       "      <td>8</td>\n",
       "      <td>8143</td>\n",
       "      <td>5</td>\n",
       "      <td>1871.0</td>\n",
       "      <td>404</td>\n",
       "      <td>5.6</td>\n",
       "    </tr>\n",
       "    <tr>\n",
       "      <th>1</th>\n",
       "      <td>10001</td>\n",
       "      <td>20</td>\n",
       "      <td>1911</td>\n",
       "      <td>89.0</td>\n",
       "      <td>424</td>\n",
       "      <td>28</td>\n",
       "      <td>9264</td>\n",
       "      <td>0</td>\n",
       "      <td>1871.0</td>\n",
       "      <td>66</td>\n",
       "      <td>5.1</td>\n",
       "    </tr>\n",
       "    <tr>\n",
       "      <th>2</th>\n",
       "      <td>10002</td>\n",
       "      <td>20</td>\n",
       "      <td>1911</td>\n",
       "      <td>89.0</td>\n",
       "      <td>604</td>\n",
       "      <td>5</td>\n",
       "      <td>3126</td>\n",
       "      <td>0</td>\n",
       "      <td>1880.0</td>\n",
       "      <td>389</td>\n",
       "      <td>5.2</td>\n",
       "    </tr>\n",
       "    <tr>\n",
       "      <th>3</th>\n",
       "      <td>10003</td>\n",
       "      <td>20</td>\n",
       "      <td>1913</td>\n",
       "      <td>89.0</td>\n",
       "      <td>1</td>\n",
       "      <td>14</td>\n",
       "      <td>6091</td>\n",
       "      <td>1</td>\n",
       "      <td>1888.0</td>\n",
       "      <td>318</td>\n",
       "      <td>5.6</td>\n",
       "    </tr>\n",
       "    <tr>\n",
       "      <th>4</th>\n",
       "      <td>10004</td>\n",
       "      <td>20</td>\n",
       "      <td>1914</td>\n",
       "      <td>89.0</td>\n",
       "      <td>424</td>\n",
       "      <td>43</td>\n",
       "      <td>6091</td>\n",
       "      <td>1</td>\n",
       "      <td>1888.0</td>\n",
       "      <td>318</td>\n",
       "      <td>6.2</td>\n",
       "    </tr>\n",
       "  </tbody>\n",
       "</table>\n",
       "</div>"
      ],
      "text/plain": [
       "   movie_id  region  release_year  duration_in_min  genres  numvotes  \\\n",
       "0     10000       7          1910             89.0     604         8   \n",
       "1     10001      20          1911             89.0     424        28   \n",
       "2     10002      20          1911             89.0     604         5   \n",
       "3     10003      20          1913             89.0       1        14   \n",
       "4     10004      20          1914             89.0     424        43   \n",
       "\n",
       "   primaryname  role  birthyear  primaryprofession  rating  \n",
       "0         8143     5     1871.0                404     5.6  \n",
       "1         9264     0     1871.0                 66     5.1  \n",
       "2         3126     0     1880.0                389     5.2  \n",
       "3         6091     1     1888.0                318     5.6  \n",
       "4         6091     1     1888.0                318     6.2  "
      ]
     },
     "execution_count": 16,
     "metadata": {},
     "output_type": "execute_result"
    }
   ],
   "source": [
    "from sklearn import preprocessing \n",
    "label_encoder = preprocessing.LabelEncoder() \n",
    "df[\"role\"]= label_encoder.fit_transform(df[\"role\"])\n",
    "df[\"primaryname\"]= label_encoder.fit_transform(df[\"primaryname\"])\n",
    "df[\"region\"]=label_encoder.fit_transform(df[\"region\"])\n",
    "df[\"primaryprofession\"]=label_encoder.fit_transform(df[\"primaryprofession\"])\n",
    "df[\"genres\"]=label_encoder.fit_transform(df[\"genres\"])\n",
    "df.head()"
   ]
  },
  {
   "cell_type": "markdown",
   "metadata": {},
   "source": [
    "Seperating the un rated movie column from the rest data set"
   ]
  },
  {
   "cell_type": "code",
   "execution_count": 20,
   "metadata": {},
   "outputs": [
    {
     "name": "stdout",
     "output_type": "stream",
     "text": [
      "(100, 11)\n"
     ]
    }
   ],
   "source": [
    "newli=df[df['rating'].isnull()]\n",
    "newli.head()\n",
    "\n",
    "print(newli.shape)"
   ]
  },
  {
   "cell_type": "markdown",
   "metadata": {},
   "source": [
    "Removing them from the training data set\n"
   ]
  },
  {
   "cell_type": "code",
   "execution_count": 24,
   "metadata": {},
   "outputs": [
    {
     "data": {
      "text/plain": [
       "(18066, 11)"
      ]
     },
     "execution_count": 24,
     "metadata": {},
     "output_type": "execute_result"
    }
   ],
   "source": [
    "df.dropna(axis=0,inplace=True)\n",
    "df.shape"
   ]
  },
  {
   "cell_type": "code",
   "execution_count": 27,
   "metadata": {},
   "outputs": [],
   "source": [
    "newli.drop(\"rating\",axis=1,inplace=True)\n",
    "\n"
   ]
  },
  {
   "cell_type": "code",
   "execution_count": 28,
   "metadata": {},
   "outputs": [
    {
     "name": "stdout",
     "output_type": "stream",
     "text": [
      "(100, 10)\n"
     ]
    },
    {
     "data": {
      "text/html": [
       "<div>\n",
       "<style scoped>\n",
       "    .dataframe tbody tr th:only-of-type {\n",
       "        vertical-align: middle;\n",
       "    }\n",
       "\n",
       "    .dataframe tbody tr th {\n",
       "        vertical-align: top;\n",
       "    }\n",
       "\n",
       "    .dataframe thead th {\n",
       "        text-align: right;\n",
       "    }\n",
       "</style>\n",
       "<table border=\"1\" class=\"dataframe\">\n",
       "  <thead>\n",
       "    <tr style=\"text-align: right;\">\n",
       "      <th></th>\n",
       "      <th>movie_id</th>\n",
       "      <th>region</th>\n",
       "      <th>release_year</th>\n",
       "      <th>duration_in_min</th>\n",
       "      <th>genres</th>\n",
       "      <th>numvotes</th>\n",
       "      <th>primaryname</th>\n",
       "      <th>role</th>\n",
       "      <th>birthyear</th>\n",
       "      <th>primaryprofession</th>\n",
       "    </tr>\n",
       "  </thead>\n",
       "  <tbody>\n",
       "    <tr>\n",
       "      <th>114</th>\n",
       "      <td>10114</td>\n",
       "      <td>8</td>\n",
       "      <td>1934</td>\n",
       "      <td>86.0</td>\n",
       "      <td>424</td>\n",
       "      <td>2737</td>\n",
       "      <td>8618</td>\n",
       "      <td>0</td>\n",
       "      <td>1899.0</td>\n",
       "      <td>0</td>\n",
       "    </tr>\n",
       "    <tr>\n",
       "      <th>294</th>\n",
       "      <td>10294</td>\n",
       "      <td>7</td>\n",
       "      <td>1950</td>\n",
       "      <td>98.0</td>\n",
       "      <td>424</td>\n",
       "      <td>403</td>\n",
       "      <td>2357</td>\n",
       "      <td>1</td>\n",
       "      <td>1922.0</td>\n",
       "      <td>296</td>\n",
       "    </tr>\n",
       "    <tr>\n",
       "      <th>474</th>\n",
       "      <td>10474</td>\n",
       "      <td>3</td>\n",
       "      <td>1972</td>\n",
       "      <td>110.0</td>\n",
       "      <td>279</td>\n",
       "      <td>9396</td>\n",
       "      <td>7730</td>\n",
       "      <td>0</td>\n",
       "      <td>1936.0</td>\n",
       "      <td>475</td>\n",
       "    </tr>\n",
       "    <tr>\n",
       "      <th>655</th>\n",
       "      <td>10655</td>\n",
       "      <td>23</td>\n",
       "      <td>1989</td>\n",
       "      <td>90.0</td>\n",
       "      <td>47</td>\n",
       "      <td>6</td>\n",
       "      <td>9172</td>\n",
       "      <td>0</td>\n",
       "      <td>1925.0</td>\n",
       "      <td>0</td>\n",
       "    </tr>\n",
       "    <tr>\n",
       "      <th>835</th>\n",
       "      <td>10835</td>\n",
       "      <td>20</td>\n",
       "      <td>1935</td>\n",
       "      <td>58.0</td>\n",
       "      <td>14</td>\n",
       "      <td>27</td>\n",
       "      <td>3874</td>\n",
       "      <td>0</td>\n",
       "      <td>1896.0</td>\n",
       "      <td>168</td>\n",
       "    </tr>\n",
       "  </tbody>\n",
       "</table>\n",
       "</div>"
      ],
      "text/plain": [
       "     movie_id  region  release_year  duration_in_min  genres  numvotes  \\\n",
       "114     10114       8          1934             86.0     424      2737   \n",
       "294     10294       7          1950             98.0     424       403   \n",
       "474     10474       3          1972            110.0     279      9396   \n",
       "655     10655      23          1989             90.0      47         6   \n",
       "835     10835      20          1935             58.0      14        27   \n",
       "\n",
       "     primaryname  role  birthyear  primaryprofession  \n",
       "114         8618     0     1899.0                  0  \n",
       "294         2357     1     1922.0                296  \n",
       "474         7730     0     1936.0                475  \n",
       "655         9172     0     1925.0                  0  \n",
       "835         3874     0     1896.0                168  "
      ]
     },
     "execution_count": 28,
     "metadata": {},
     "output_type": "execute_result"
    }
   ],
   "source": [
    "print(newli.shape)\n",
    "newli.head()"
   ]
  },
  {
   "cell_type": "markdown",
   "metadata": {},
   "source": [
    "Consider Y to be target in training data"
   ]
  },
  {
   "cell_type": "code",
   "execution_count": 29,
   "metadata": {},
   "outputs": [
    {
     "data": {
      "text/plain": [
       "(18066,)"
      ]
     },
     "execution_count": 29,
     "metadata": {},
     "output_type": "execute_result"
    }
   ],
   "source": [
    "y=df[\"rating\"]\n",
    "\n",
    "y.shape"
   ]
  },
  {
   "cell_type": "code",
   "execution_count": 30,
   "metadata": {},
   "outputs": [
    {
     "data": {
      "text/html": [
       "<div>\n",
       "<style scoped>\n",
       "    .dataframe tbody tr th:only-of-type {\n",
       "        vertical-align: middle;\n",
       "    }\n",
       "\n",
       "    .dataframe tbody tr th {\n",
       "        vertical-align: top;\n",
       "    }\n",
       "\n",
       "    .dataframe thead th {\n",
       "        text-align: right;\n",
       "    }\n",
       "</style>\n",
       "<table border=\"1\" class=\"dataframe\">\n",
       "  <thead>\n",
       "    <tr style=\"text-align: right;\">\n",
       "      <th></th>\n",
       "      <th>movie_id</th>\n",
       "      <th>region</th>\n",
       "      <th>release_year</th>\n",
       "      <th>duration_in_min</th>\n",
       "      <th>genres</th>\n",
       "      <th>numvotes</th>\n",
       "      <th>primaryname</th>\n",
       "      <th>role</th>\n",
       "      <th>birthyear</th>\n",
       "      <th>primaryprofession</th>\n",
       "    </tr>\n",
       "  </thead>\n",
       "  <tbody>\n",
       "    <tr>\n",
       "      <th>0</th>\n",
       "      <td>10000</td>\n",
       "      <td>7</td>\n",
       "      <td>1910</td>\n",
       "      <td>89.0</td>\n",
       "      <td>604</td>\n",
       "      <td>8</td>\n",
       "      <td>8143</td>\n",
       "      <td>5</td>\n",
       "      <td>1871.0</td>\n",
       "      <td>404</td>\n",
       "    </tr>\n",
       "    <tr>\n",
       "      <th>1</th>\n",
       "      <td>10001</td>\n",
       "      <td>20</td>\n",
       "      <td>1911</td>\n",
       "      <td>89.0</td>\n",
       "      <td>424</td>\n",
       "      <td>28</td>\n",
       "      <td>9264</td>\n",
       "      <td>0</td>\n",
       "      <td>1871.0</td>\n",
       "      <td>66</td>\n",
       "    </tr>\n",
       "    <tr>\n",
       "      <th>2</th>\n",
       "      <td>10002</td>\n",
       "      <td>20</td>\n",
       "      <td>1911</td>\n",
       "      <td>89.0</td>\n",
       "      <td>604</td>\n",
       "      <td>5</td>\n",
       "      <td>3126</td>\n",
       "      <td>0</td>\n",
       "      <td>1880.0</td>\n",
       "      <td>389</td>\n",
       "    </tr>\n",
       "    <tr>\n",
       "      <th>3</th>\n",
       "      <td>10003</td>\n",
       "      <td>20</td>\n",
       "      <td>1913</td>\n",
       "      <td>89.0</td>\n",
       "      <td>1</td>\n",
       "      <td>14</td>\n",
       "      <td>6091</td>\n",
       "      <td>1</td>\n",
       "      <td>1888.0</td>\n",
       "      <td>318</td>\n",
       "    </tr>\n",
       "    <tr>\n",
       "      <th>4</th>\n",
       "      <td>10004</td>\n",
       "      <td>20</td>\n",
       "      <td>1914</td>\n",
       "      <td>89.0</td>\n",
       "      <td>424</td>\n",
       "      <td>43</td>\n",
       "      <td>6091</td>\n",
       "      <td>1</td>\n",
       "      <td>1888.0</td>\n",
       "      <td>318</td>\n",
       "    </tr>\n",
       "  </tbody>\n",
       "</table>\n",
       "</div>"
      ],
      "text/plain": [
       "   movie_id  region  release_year  duration_in_min  genres  numvotes  \\\n",
       "0     10000       7          1910             89.0     604         8   \n",
       "1     10001      20          1911             89.0     424        28   \n",
       "2     10002      20          1911             89.0     604         5   \n",
       "3     10003      20          1913             89.0       1        14   \n",
       "4     10004      20          1914             89.0     424        43   \n",
       "\n",
       "   primaryname  role  birthyear  primaryprofession  \n",
       "0         8143     5     1871.0                404  \n",
       "1         9264     0     1871.0                 66  \n",
       "2         3126     0     1880.0                389  \n",
       "3         6091     1     1888.0                318  \n",
       "4         6091     1     1888.0                318  "
      ]
     },
     "execution_count": 30,
     "metadata": {},
     "output_type": "execute_result"
    }
   ],
   "source": [
    "df.drop(\"rating\",axis=1,inplace=True)\n",
    "X=df\n",
    "X.head()"
   ]
  },
  {
   "cell_type": "markdown",
   "metadata": {},
   "source": [
    "We will take <b>80% </b> for training data and <b>20% </b>for testing data"
   ]
  },
  {
   "cell_type": "code",
   "execution_count": 31,
   "metadata": {},
   "outputs": [],
   "source": [
    "from sklearn.model_selection import train_test_split\n",
    "xtrain,xtest,ytrain,ytest = train_test_split(X,y,test_size=0.2,random_state=42)"
   ]
  },
  {
   "cell_type": "markdown",
   "metadata": {},
   "source": [
    "Here i am using <b>Random forest Regressor</b> as my algorithm to train\n",
    "I have given <b>100 </b>estimatores with random selection"
   ]
  },
  {
   "cell_type": "code",
   "execution_count": 34,
   "metadata": {},
   "outputs": [],
   "source": [
    "from sklearn.ensemble import RandomForestRegressor \n",
    "regressor = RandomForestRegressor(n_estimators = 500, random_state = 45)\n",
    "regressor.fit(xtrain, ytrain) \n",
    "yhat=regressor.predict(xtest)"
   ]
  },
  {
   "cell_type": "markdown",
   "metadata": {},
   "source": [
    "Evaluating my model using <b>Mean squared error </b> and <b>r2 score</b>"
   ]
  },
  {
   "cell_type": "code",
   "execution_count": 35,
   "metadata": {},
   "outputs": [
    {
     "data": {
      "text/plain": [
       "0.8145802955174322"
      ]
     },
     "execution_count": 35,
     "metadata": {},
     "output_type": "execute_result"
    }
   ],
   "source": [
    "from sklearn.metrics import mean_squared_error\n",
    "mean_squared_error(ytest,yhat)"
   ]
  },
  {
   "cell_type": "code",
   "execution_count": 36,
   "metadata": {},
   "outputs": [
    {
     "data": {
      "text/plain": [
       "0.2924285260299019"
      ]
     },
     "execution_count": 36,
     "metadata": {},
     "output_type": "execute_result"
    }
   ],
   "source": [
    "from sklearn.metrics import r2_score\n",
    "r2_score(ytest,yhat)"
   ]
  },
  {
   "cell_type": "markdown",
   "metadata": {},
   "source": [
    "predicting data for result samples"
   ]
  },
  {
   "cell_type": "code",
   "execution_count": null,
   "metadata": {},
   "outputs": [],
   "source": [
    "result=regressor.predict(newli)"
   ]
  },
  {
   "cell_type": "code",
   "execution_count": 40,
   "metadata": {},
   "outputs": [
    {
     "data": {
      "text/plain": [
       "100"
      ]
     },
     "execution_count": 40,
     "metadata": {},
     "output_type": "execute_result"
    }
   ],
   "source": [
    "len(result)"
   ]
  },
  {
   "cell_type": "markdown",
   "metadata": {},
   "source": [
    "Combing the result and uploading to a csv file "
   ]
  },
  {
   "cell_type": "code",
   "execution_count": 61,
   "metadata": {},
   "outputs": [
    {
     "name": "stdout",
     "output_type": "stream",
     "text": [
      "(100, 2)\n"
     ]
    }
   ],
   "source": [
    "joinlist = newli['movie_id'].tolist()\n",
    "output= pd.DataFrame()\n",
    "output['Movie_id']  = joinlist\n",
    "output['rating']  = result\n",
    "print(output.shape)\n",
    "output.to_csv(\"result1.csv\")"
   ]
  },
  {
   "cell_type": "markdown",
   "metadata": {},
   "source": [
    "<h3>END</h3>"
   ]
  }
 ],
 "metadata": {
  "kernelspec": {
   "display_name": "Python 3",
   "language": "python",
   "name": "python3"
  },
  "language_info": {
   "codemirror_mode": {
    "name": "ipython",
    "version": 3
   },
   "file_extension": ".py",
   "mimetype": "text/x-python",
   "name": "python",
   "nbconvert_exporter": "python",
   "pygments_lexer": "ipython3",
   "version": "3.7.0"
  }
 },
 "nbformat": 4,
 "nbformat_minor": 2
}
